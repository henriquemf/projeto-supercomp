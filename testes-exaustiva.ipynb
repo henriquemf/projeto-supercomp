{
 "cells": [
  {
   "cell_type": "markdown",
   "metadata": {},
   "source": [
    "## Comaparando Busca-Exaustiva Sequencial com Busca-Exaustiva Paralelizada"
   ]
  },
  {
   "cell_type": "code",
   "execution_count": null,
   "metadata": {},
   "outputs": [],
   "source": [
    "tempo_sequencial = []\n",
    "tempo_omp = []\n",
    "tempo_thrust = []\n",
    "\n",
    "for i in range(1, 8):\n",
    "    arquivo_in = \"entrega-final/in/input-\" + str(i) + \".txt\"\n",
    "    arquivo_seq_out = \"entrega-final/out/seq-out-\" + str(i) + \".txt\"\n",
    "    arquivo_al_out = \"entrega-final/out/par-out-\" + str(i) + \".txt\"\n",
    "\n",
    "\n",
    "    # Sequencial\n",
    "    start = time.perf_counter()\n",
    "    !./busca-exaustiva < $arquivo_in > $arquivo_heu_out\n",
    "    end = time.perf_counter()\n",
    "    tempo_sequencial.append(end - start)\n",
    "\n",
    "    # OMP\n",
    "    start = time.perf_counter()\n",
    "    !./busca-openmp < $arquivo_in > $arquivo_al_out\n",
    "    end = time.perf_counter()\n",
    "    tempo_omp.append(end - start)\n",
    "    \n",
    "    # Thrust\n",
    "    start = time.perf_counter()\n",
    "    !./aleatoriedade < $arquivo_in > $arquivo_al_out\n",
    "    end = time.perf_counter()\n",
    "    tempo_thrust.append(end - start)"
   ]
  }
 ],
 "metadata": {
  "kernelspec": {
   "display_name": "Python 3 (ipykernel)",
   "language": "python",
   "name": "python3"
  },
  "language_info": {
   "codemirror_mode": {
    "name": "ipython",
    "version": 3
   },
   "file_extension": ".py",
   "mimetype": "text/x-python",
   "name": "python",
   "nbconvert_exporter": "python",
   "pygments_lexer": "ipython3",
   "version": "3.8.10"
  }
 },
 "nbformat": 4,
 "nbformat_minor": 2
}
