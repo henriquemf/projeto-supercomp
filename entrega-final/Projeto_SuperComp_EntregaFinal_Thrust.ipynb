{
  "cells": [
    {
      "cell_type": "code",
      "execution_count": 23,
      "metadata": {
        "colab": {
          "base_uri": "https://localhost:8080/"
        },
        "id": "1dHNGOQeIqaB",
        "outputId": "8e9f1d16-d515-441c-c63a-111c63fb7dc4"
      },
      "outputs": [
        {
          "name": "stdout",
          "output_type": "stream",
          "text": [
            "Overwriting teste.txt\n"
          ]
        }
      ],
      "source": [
        "%%writefile teste.txt\n",
        "31 5\n",
        "2 4 5 3 2 \n",
        "5 9 5\n",
        "17 20 4\n",
        "13 16 4\n",
        "16 18 1\n",
        "3 6 2\n",
        "6 8 1\n",
        "19 21 4\n",
        "23 3 5\n",
        "20 23 4\n",
        "21 23 1\n",
        "15 17 3\n",
        "7 9 4\n",
        "1 4 1\n",
        "10 13 4\n",
        "23 2 5\n",
        "3 6 1\n",
        "8 11 2\n",
        "12 14 4\n",
        "17 21 5\n",
        "17 20 4\n",
        "12 17 4\n",
        "13 16 5\n",
        "21 2 4\n",
        "20 0 4\n",
        "17 20 3\n",
        "10 12 3\n",
        "3 4 2\n",
        "0 2 5\n",
        "20 0 4\n",
        "7 10 4\n",
        "13 17 2"
      ]
    },
    {
      "cell_type": "code",
      "execution_count": 20,
      "metadata": {
        "colab": {
          "base_uri": "https://localhost:8080/"
        },
        "id": "Ur7y3MtfJA6W",
        "outputId": "d86cec54-3e5b-4d8b-c586-56f05263be7a"
      },
      "outputs": [
        {
          "name": "stdout",
          "output_type": "stream",
          "text": [
            "Overwriting teste-exaustiva-thrust.cu\n"
          ]
        }
      ],
      "source": [
        "%%writefile teste-exaustiva-thrust.cu\n",
        "#include <iostream>\n",
        "#include <iomanip>\n",
        "#include <cstdlib>\n",
        "#include <chrono>\n",
        "#include <cstdlib>\n",
        "#include <algorithm>\n",
        "#include <cmath>\n",
        "#include <random>\n",
        "// Importações do thrust\n",
        "#include <thrust/host_vector.h>\n",
        "#include <thrust/device_vector.h>\n",
        "#include <thrust/generate.h>\n",
        "#include <thrust/functional.h>\n",
        "#include <thrust/copy.h>\n",
        "\n",
        "using namespace std;\n",
        "\n",
        "\n",
        "struct analisa_configuracao {\n",
        "    int n_filmes;\n",
        "    int n_categorias;\n",
        "    int *start_time;\n",
        "    int *end_time;\n",
        "    int *cat_id;\n",
        "    int *categorias;\n",
        "\n",
        "    analisa_configuracao(int _n_filmes,\n",
        "                         int _n_categorias,\n",
        "                         int* _start_time,\n",
        "                         int* _end_time,\n",
        "                         int* _cat_id,\n",
        "                         int* _categorias\n",
        "                        ): n_filmes(_n_filmes), \n",
        "                           n_categorias(_n_categorias),\n",
        "                           start_time(_start_time),\n",
        "                           end_time(_end_time),\n",
        "                           cat_id(_cat_id),\n",
        "                           categorias(_categorias)\n",
        "                        {};\n",
        "\n",
        "    __device__\n",
        "    int operator()(const int& x){\n",
        "        int disponibilidade[24];\n",
        "        int copy_categorias[10];\n",
        "\n",
        "        for (int k = 0; k < 24; k++){\n",
        "            disponibilidade[k] = 0;\n",
        "        }\n",
        "\n",
        "        for (int l = 0; l < n_categorias; l++){\n",
        "            copy_categorias[l] = categorias[l];\n",
        "        }\n",
        "\n",
        "        int max_count = 0;\n",
        "\n",
        "        for (int i = 0; i < n_filmes; i++){\n",
        "            if (x & (1<<i)){\n",
        "                if (copy_categorias[cat_id[i] - 1] <= 0) return -1;\n",
        "                for (int j = start_time[i]; j < end_time[i]; j++){\n",
        "                    if (disponibilidade[j] == 1) return -1;\n",
        "                    disponibilidade[j] = 1;\n",
        "                }\n",
        "                copy_categorias[cat_id[i] - 1]--;\n",
        "                max_count++;\n",
        "            }\n",
        "        }\n",
        "        return max_count;\n",
        "    }\n",
        "};\n",
        "\n",
        "\n",
        "int main(){\n",
        "    int n_filmes, n_categorias;\n",
        "\n",
        "    cin >> n_filmes >> n_categorias;\n",
        "\n",
        "    thrust::host_vector<int> categorias(n_categorias);\n",
        "    thrust::host_vector<int> start_time(n_filmes);\n",
        "    thrust::host_vector<int> end_time(n_filmes);\n",
        "    thrust::host_vector<int> cat_id(n_filmes);\n",
        "\n",
        "    thrust::host_vector<int> result(1);\n",
        "\n",
        "    for (int i = 0; i < n_categorias; i++){\n",
        "        cin >> categorias[i];\n",
        "    }\n",
        "\n",
        "    int n_start_time, n_end_time;\n",
        "\n",
        "    for (int i = 0; i < n_filmes; i++){\n",
        "        cin >> n_start_time >> n_end_time;\n",
        "        if (n_end_time == 0) n_end_time = 24;\n",
        "        if (n_start_time < 0) n_start_time = 0;\n",
        "        if (n_end_time < 0) n_end_time = 0;\n",
        "        if (n_end_time < n_start_time) n_end_time = 24;\n",
        "        start_time[i] = n_start_time;\n",
        "        end_time[i] = n_end_time;\n",
        "        cin >> cat_id[i];\n",
        "    }\n",
        "\n",
        "    cout << \"Carregou as entradas\" << endl;\n",
        "\n",
        "    thrust::device_vector<int> device_categorias = categorias;\n",
        "    thrust::device_vector<int> device_start_time = start_time;\n",
        "    thrust::device_vector<int> device_end_time = end_time;\n",
        "    thrust::device_vector<int> device_cat_id = cat_id;\n",
        "\n",
        "    cout << \"Copiou para o device\" << endl;\n",
        "\n",
        "    thrust::device_vector<int> device_configuration(pow(2, n_filmes));\n",
        "    thrust::sequence(device_configuration.begin(), device_configuration.end());\n",
        "\n",
        "    cout << \"Criou o vetor de configurações\" << endl;\n",
        "\n",
        "\n",
        "    thrust::transform(device_configuration.begin(), device_configuration.end(), device_configuration.begin(), \n",
        "                      analisa_configuracao(n_filmes, \n",
        "                                           n_categorias,\n",
        "                                           thrust::raw_pointer_cast(device_start_time.data()), \n",
        "                                           thrust::raw_pointer_cast(device_end_time.data()),\n",
        "                                           thrust::raw_pointer_cast(device_cat_id.data()),\n",
        "                                           thrust::raw_pointer_cast(device_categorias.data())\n",
        "                                          )\n",
        "                     );\n",
        "\n",
        "    cout << \"Aplicou o Transform\" << endl;\n",
        "\n",
        "    thrust::device_vector<int> device_result(1);\n",
        "\n",
        "    device_result[0] = *thrust::max_element(device_configuration.begin(), device_configuration.end());\n",
        "    thrust::copy(device_result.begin(), device_result.end(), result.begin());\n",
        "\n",
        "    cout << \"Max Filmes: \" << result[0] << endl;\n",
        "\n",
        "    return 0;\n",
        "}\n"
      ]
    },
    {
      "cell_type": "code",
      "execution_count": 21,
      "metadata": {
        "id": "ei-kFLXiYFed"
      },
      "outputs": [],
      "source": [
        "!nvcc teste-exaustiva-thrust.cu -o teste-exaustiva-thrust"
      ]
    },
    {
      "cell_type": "code",
      "execution_count": 24,
      "metadata": {
        "colab": {
          "base_uri": "https://localhost:8080/"
        },
        "id": "98c4xmyEYMlS",
        "outputId": "38ea6a74-2b41-4f00-f119-935a9ea43023"
      },
      "outputs": [
        {
          "name": "stdout",
          "output_type": "stream",
          "text": [
            "Carregou as entradas\n",
            "Copiou para o device\n",
            "Criou o vetor de configurações\n",
            "Aplicou o Transform\n",
            "Max Filmes: 9\n"
          ]
        }
      ],
      "source": [
        "!./teste-exaustiva-thrust < teste.txt"
      ]
    },
    {
      "cell_type": "code",
      "execution_count": 8,
      "metadata": {
        "colab": {
          "base_uri": "https://localhost:8080/"
        },
        "id": "uLg4-jTKiTRr",
        "outputId": "41c75063-c8ae-479b-b8b8-0f1b2a9425fa"
      },
      "outputs": [
        {
          "name": "stdout",
          "output_type": "stream",
          "text": [
            "Writing busca-exaustiva.cpp\n"
          ]
        }
      ],
      "source": [
        "%%writefile busca-exaustiva.cpp\n",
        "#include <iostream>\n",
        "#include <iomanip>      // std::setprecision\n",
        "#include <cmath>        // std::pow\n",
        "#include <vector>       // std::vector\n",
        "#include <algorithm>    // std::sort\n",
        "#include <bitset>\n",
        "\n",
        "//==============================================================================\n",
        "// Structs\n",
        "//==============================================================================\n",
        "\n",
        "struct Filme{\n",
        "    int id;\n",
        "    int inicio;\n",
        "    int fim;\n",
        "    int categoria;\n",
        "};\n",
        "\n",
        "struct Proc_Filme{\n",
        "    int id;\n",
        "    std::bitset<24> horario;\n",
        "    int categoria;\n",
        "};\n",
        "\n",
        "struct Categoria{\n",
        "    int id;\n",
        "    int capacidade;\n",
        "};\n",
        "\n",
        "//==============================================================================\n",
        "// Funtions\n",
        "//==============================================================================\n",
        "\n",
        "std::vector<Proc_Filme> get_horario(std::vector<Filme> Filmes, int N){\n",
        "    std::vector<Proc_Filme> filmes_processados(N);\n",
        "\n",
        "    for (int i = 0; i < N; i++){\n",
        "        int inicio = Filmes[i].inicio;\n",
        "        int fim = Filmes[i].fim;\n",
        "\n",
        "        std::bitset<24> horario;\n",
        "\n",
        "        // Produzir horário em bitset\n",
        "        if (inicio > fim) {\n",
        "            for (int i = inicio; i < 24; i++) horario.set(i);\n",
        "            for (int i = 0; i < fim; i++) horario.set(i);\n",
        "        }\n",
        "        else if(inicio == fim) {\n",
        "            horario.set(inicio);\n",
        "        }\n",
        "        else {\n",
        "            for (int i = inicio; i < fim; i++) horario.set(i);\n",
        "        }\n",
        "\n",
        "        Proc_Filme proc_filme;\n",
        "        proc_filme.id = Filmes[i].id;\n",
        "        proc_filme.horario = horario;\n",
        "        proc_filme.categoria = Filmes[i].categoria;\n",
        "        filmes_processados[i] = proc_filme;\n",
        "    }\n",
        "\n",
        "    return filmes_processados;\n",
        "};\n",
        "\n",
        "//==============================================================================\n",
        "// Main\n",
        "//==============================================================================\n",
        "int main(){\n",
        "    int n_filmes, n_categorias;\n",
        "    std::vector<Filme> filmes;\n",
        "    std::vector<Categoria> categorias;\n",
        "\n",
        "    std::cin >> n_filmes >> n_categorias;\n",
        "\n",
        "    for(int i = 1; i <= n_categorias; i++){\n",
        "        Categoria categoria;\n",
        "        categoria.id = i;\n",
        "        std::cin >> categoria.capacidade;\n",
        "        categorias.push_back(categoria);\n",
        "    }\n",
        "\n",
        "    for(int i = 0; i < n_filmes; i++){\n",
        "        Filme filme;\n",
        "        filme.id = i;\n",
        "        std::cin >> filme.inicio >> filme.fim >> filme.categoria;\n",
        "        if (filme.fim == 0) filme.fim = 24;\n",
        "        if (filme.inicio < 0) filme.inicio = 0;\n",
        "        if (filme.fim < 0) filme.fim = 0;\n",
        "        if (filme.fim < filme.inicio) filme.fim = 24;\n",
        "        filmes.push_back(filme);\n",
        "    };\n",
        "\n",
        "    n_filmes = filmes.size();\n",
        "\n",
        "    std::vector<Proc_Filme> filmes_processados = get_horario(filmes, n_filmes);\n",
        "\n",
        "    std::vector<std::bitset<64>> possibilidades;\n",
        "\n",
        "    for(long int i = 0; i < pow(2, n_filmes); i++){\n",
        "        std::vector<Categoria> copy_categorias = categorias;\n",
        "        std::bitset<24> maratona;\n",
        "        std::bitset<64> x(i);\n",
        "\n",
        "        for (int j = 0; j < n_filmes; j++){\n",
        "            if (x[j] == 1){\n",
        "                std::bitset<24> disponivel = maratona & filmes_processados[j].horario;\n",
        "                if(disponivel != 0) break;\n",
        "                if(copy_categorias[filmes_processados[j].categoria-1].capacidade == 0) break;\n",
        "                maratona = maratona | filmes_processados[j].horario;\n",
        "                copy_categorias[filmes_processados[j].categoria-1].capacidade--;\n",
        "            }\n",
        "            if (j == n_filmes-1) possibilidades.push_back(x);\n",
        "        }\n",
        "    }\n",
        "\n",
        "    int n_possibilidades = possibilidades.size();\n",
        "    std::vector<int> n_filmes_possibilidades(n_possibilidades);\n",
        "    for(int i = 0; i < n_possibilidades; i++){\n",
        "        for (int j = 0; j < 64; j++){\n",
        "            if (possibilidades[i][j] == 1) n_filmes_possibilidades[i]++;\n",
        "        }\n",
        "    }\n",
        "\n",
        "    int max = *std::max_element(n_filmes_possibilidades.begin(), n_filmes_possibilidades.end());\n",
        "    std::cout << max << std::endl;\n",
        "\n",
        "    return 0;\n",
        "}"
      ]
    },
    {
      "cell_type": "code",
      "execution_count": 9,
      "metadata": {
        "id": "YtWz39IOo977"
      },
      "outputs": [],
      "source": [
        "!g++ -g -O3 -Wall busca-exaustiva.cpp -o busca-exaustiva"
      ]
    },
    {
      "cell_type": "code",
      "execution_count": 10,
      "metadata": {
        "colab": {
          "base_uri": "https://localhost:8080/"
        },
        "id": "KljY2eBBpFOp",
        "outputId": "b8670ea8-2128-44f7-ad30-81b926fbb432"
      },
      "outputs": [
        {
          "name": "stdout",
          "output_type": "stream",
          "text": [
            "9\n"
          ]
        }
      ],
      "source": [
        "!./busca-exaustiva < teste.txt"
      ]
    },
    {
      "cell_type": "code",
      "execution_count": null,
      "metadata": {
        "id": "AEo-2KLtpIx8"
      },
      "outputs": [],
      "source": []
    }
  ],
  "metadata": {
    "accelerator": "GPU",
    "colab": {
      "gpuType": "T4",
      "provenance": []
    },
    "kernelspec": {
      "display_name": "Python 3",
      "name": "python3"
    },
    "language_info": {
      "name": "python"
    }
  },
  "nbformat": 4,
  "nbformat_minor": 0
}
